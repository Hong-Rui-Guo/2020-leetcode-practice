{
 "cells": [
  {
   "cell_type": "code",
   "execution_count": null,
   "metadata": {},
   "outputs": [],
   "source": [
    "class Solution:\n",
    "    #divide and conquer practice\n",
    "    def majorityElement(self, nums: List[int]) -> int:\n",
    "        return self.majority(nums, 0, len(nums) - 1)\n",
    "    def majority(self, nums, left, right):\n",
    "        if left == right:\n",
    "            return nums[left]\n",
    "        \n",
    "        # step1: divide\n",
    "        mid = int((right - left) / 2) + left\n",
    "        \n",
    "        # step2: conquer\n",
    "        left_list_major = self.majority(nums, left, mid)\n",
    "        right_list_major = self.majority(nums, mid + 1, right)\n",
    "\n",
    "        # step3: combine\n",
    "        # if the two halves agree on the majority element, return it.\n",
    "        if left_list_major == right_list_major :\n",
    "            return left_list_major\n",
    "        \n",
    "        # otherwise, count each element and return the \"winner\".\n",
    "        # note: learn sum( for loop ) use\n",
    "        left_count = sum(1 for i in range(left, right+1) if nums[i] == left_list_major)\n",
    "        right_count = sum(1 for i in range(left, right+1) if nums[i] == right_list_major)\n",
    "\n",
    "        if left_count > right_count :\n",
    "            return left_list_major\n",
    "        else:\n",
    "            return right_list_major\n",
    "        \n",
    "        \n",
    "#         if nums.count(left_list_major) > nums.count(right_list_major) :\n",
    "#             return left_list_major\n",
    "#         else:\n",
    "#             return right_list_major\n",
    "        "
   ]
  }
 ],
 "metadata": {
  "kernelspec": {
   "display_name": "Python 3",
   "language": "python",
   "name": "python3"
  },
  "language_info": {
   "codemirror_mode": {
    "name": "ipython",
    "version": 3
   },
   "file_extension": ".py",
   "mimetype": "text/x-python",
   "name": "python",
   "nbconvert_exporter": "python",
   "pygments_lexer": "ipython3",
   "version": "3.7.5"
  }
 },
 "nbformat": 4,
 "nbformat_minor": 4
}
