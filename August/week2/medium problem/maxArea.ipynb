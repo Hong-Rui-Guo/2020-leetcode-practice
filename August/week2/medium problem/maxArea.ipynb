{
 "cells": [
  {
   "cell_type": "code",
   "execution_count": null,
   "metadata": {},
   "outputs": [],
   "source": [
    "class Solution:\n",
    "    def maxArea(self, height: List[int]) -> int:\n",
    "        left = 0\n",
    "        right = len(height) - 1\n",
    "        max_area = min(height[left],height[right]) * (right - left)\n",
    "        \n",
    "        if len(height) == 2:\n",
    "            return max_area\n",
    "        else:\n",
    "            while left < right:\n",
    "                if height[left] < height[right] :\n",
    "                    left = left + 1\n",
    "                else:\n",
    "                    right = right - 1\n",
    "                \n",
    "                current_area = min(height[left],height[right]) * (right - left)\n",
    "                \n",
    "                if current_area > max_area :\n",
    "                    max_area = current_area\n",
    "            \n",
    "            return max_area"
   ]
  }
 ],
 "metadata": {
  "kernelspec": {
   "display_name": "Python 3",
   "language": "python",
   "name": "python3"
  },
  "language_info": {
   "codemirror_mode": {
    "name": "ipython",
    "version": 3
   },
   "file_extension": ".py",
   "mimetype": "text/x-python",
   "name": "python",
   "nbconvert_exporter": "python",
   "pygments_lexer": "ipython3",
   "version": "3.7.5"
  }
 },
 "nbformat": 4,
 "nbformat_minor": 4
}
