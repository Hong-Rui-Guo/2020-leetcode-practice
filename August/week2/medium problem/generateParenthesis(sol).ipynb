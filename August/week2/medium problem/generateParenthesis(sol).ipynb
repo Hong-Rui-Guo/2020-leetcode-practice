{
 "cells": [
  {
   "cell_type": "code",
   "execution_count": null,
   "metadata": {},
   "outputs": [],
   "source": [
    "class Solution(object):\n",
    "    result_list = []\n",
    "    def generateParenthesis(self, n):\n",
    "        global result_list\n",
    "        def generate(s):\n",
    "            global result_list\n",
    "            new_s = s\n",
    "            left = right = 0\n",
    "            for i in range(n * 2):\n",
    "                if s[i] == '(':\n",
    "                    left += 1\n",
    "                else:\n",
    "                    right += 1\n",
    "                    if left > right and s[i - 1] == '(':\n",
    "                        new_s = s[:i - 1] + s[i:i + 1] + s[i - 1:i] + s[i + 1:]\n",
    "                        if new_s not in result_list:\n",
    "                            result_list += [new_s]\n",
    "                            generate(new_s)\n",
    "        s = '(' * n + ')' * n\n",
    "        result_list = [s]\n",
    "        generate(s)\n",
    "        return result_list"
   ]
  }
 ],
 "metadata": {
  "kernelspec": {
   "display_name": "Python 3",
   "language": "python",
   "name": "python3"
  },
  "language_info": {
   "codemirror_mode": {
    "name": "ipython",
    "version": 3
   },
   "file_extension": ".py",
   "mimetype": "text/x-python",
   "name": "python",
   "nbconvert_exporter": "python",
   "pygments_lexer": "ipython3",
   "version": "3.7.5"
  }
 },
 "nbformat": 4,
 "nbformat_minor": 4
}
