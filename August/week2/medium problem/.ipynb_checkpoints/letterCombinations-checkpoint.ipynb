{
 "cells": [
  {
   "cell_type": "code",
   "execution_count": null,
   "metadata": {},
   "outputs": [],
   "source": [
    "class Solution(object):\n",
    "    def letterCombinations(self, digits):\n",
    "        \"\"\"\n",
    "        :type digits: str\n",
    "        :rtype: List[str]\n",
    "        \"\"\"\n",
    "        kvmaps = {'2': 'abc', '3': 'def', '4': 'ghi', '5': 'jkl', '6': 'mno', '7': 'pqrs', '8': 'tuv', '9': 'wxyz'}\n",
    "        res = []\n",
    "        self.dfs(digits, 0, res, '', kvmaps)\n",
    "        return res\n",
    "    \n",
    "    def dfs(self, string, index, res, path, kvmaps):\n",
    "        if index == len(string):\n",
    "            if path != '':\n",
    "                #-------------------------------------------\n",
    "                # note : only can use append, can't use '+'\n",
    "                #-------------------------------------------\n",
    "                res.append(path)\n",
    "                #res = res + [path]\n",
    "                print(res)\n",
    "            return\n",
    "        for j in kvmaps[string[index]]:\n",
    "            self.dfs(string, index + 1, res, path + j, kvmaps)"
   ]
  }
 ],
 "metadata": {
  "kernelspec": {
   "display_name": "Python 3",
   "language": "python",
   "name": "python3"
  },
  "language_info": {
   "codemirror_mode": {
    "name": "ipython",
    "version": 3
   },
   "file_extension": ".py",
   "mimetype": "text/x-python",
   "name": "python",
   "nbconvert_exporter": "python",
   "pygments_lexer": "ipython3",
   "version": "3.7.5"
  }
 },
 "nbformat": 4,
 "nbformat_minor": 4
}
