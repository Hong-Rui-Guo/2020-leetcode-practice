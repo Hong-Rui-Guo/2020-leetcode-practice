{
 "cells": [
  {
   "cell_type": "code",
   "execution_count": null,
   "metadata": {},
   "outputs": [],
   "source": [
    "class Solution:\n",
    "    def climbStairs(self, n: int) -> int:\n",
    "        if n == 1:\n",
    "            return 1\n",
    "        elif n == 2:\n",
    "            return 2\n",
    "#         elif n % 2 == 0:\n",
    "#             return self.climbStairs(n/2) * self.climbStairs(n/2) + self.climbStairs(n/2 - 1) * self.climbStairs(n/2 - 1)\n",
    "#         else:\n",
    "#             return self.climbStairs((n-1) / 2) * self.climbStairs((n-1) / 2) + self.climbStairs((n-1) / 2 - 1) * self.climbStairs((n-1) / 2 - 1)\n",
    "        else:\n",
    "            return self.climbStairs(n-2) + self.climbStairs(n-1)"
   ]
  }
 ],
 "metadata": {
  "kernelspec": {
   "display_name": "Python 3",
   "language": "python",
   "name": "python3"
  },
  "language_info": {
   "codemirror_mode": {
    "name": "ipython",
    "version": 3
   },
   "file_extension": ".py",
   "mimetype": "text/x-python",
   "name": "python",
   "nbconvert_exporter": "python",
   "pygments_lexer": "ipython3",
   "version": "3.7.5"
  }
 },
 "nbformat": 4,
 "nbformat_minor": 4
}
