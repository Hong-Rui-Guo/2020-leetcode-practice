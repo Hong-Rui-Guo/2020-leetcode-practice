{
 "cells": [
  {
   "cell_type": "code",
   "execution_count": null,
   "metadata": {},
   "outputs": [],
   "source": [
    "# Definition for a binary tree node.\n",
    "# class TreeNode:\n",
    "#     def __init__(self, val=0, left=None, right=None):\n",
    "#         self.val = val\n",
    "#         self.left = left\n",
    "#         self.right = right\n",
    "\n",
    "\n",
    "#method 1 : DFS\n",
    "class Solution(object):\n",
    "    def maxDepth(self, root):\n",
    "        \"\"\"\n",
    "        :type root: TreeNode\n",
    "        :rtype: int\n",
    "        \"\"\"\n",
    "        if root == None:\n",
    "            return 0\n",
    "        return 1 + max(self.maxDepth(root.left), self.maxDepth(root.right))\n",
    "'''\n",
    "#method 2 : BFS\n",
    "class Solution:\n",
    "    def maxDepth(self, root):\n",
    "        \"\"\"\n",
    "        :type root: TreeNode\n",
    "        :rtype: int\n",
    "        \"\"\"\n",
    "        if root == None:\n",
    "            return 0\n",
    "\n",
    "        depth = 0\n",
    "        q = [root]\n",
    "        print('len(q):',end='')\n",
    "        print(len(q))\n",
    "        print('')\n",
    "        print('q:',end='')\n",
    "        print(q)\n",
    "        print('')\n",
    "        print('q[0]:',end='')\n",
    "        print(q[0])\n",
    "        print('')\n",
    "        #print(q.left)\n",
    "        print('q[0].left:',end='')\n",
    "        print(q[0].left)\n",
    "        while len(q) != 0:\n",
    "            depth += 1\n",
    "            for i in range(0, len(q)):\n",
    "                if q[0].left:\n",
    "                    q.append(q[0].left)\n",
    "                if q[0].right:\n",
    "                    q.append(q[0].right)\n",
    "                del q[0]\n",
    "        return depth\n",
    "'''"
   ]
  }
 ],
 "metadata": {
  "kernelspec": {
   "display_name": "Python 3",
   "language": "python",
   "name": "python3"
  },
  "language_info": {
   "codemirror_mode": {
    "name": "ipython",
    "version": 3
   },
   "file_extension": ".py",
   "mimetype": "text/x-python",
   "name": "python",
   "nbconvert_exporter": "python",
   "pygments_lexer": "ipython3",
   "version": "3.7.5"
  }
 },
 "nbformat": 4,
 "nbformat_minor": 4
}
