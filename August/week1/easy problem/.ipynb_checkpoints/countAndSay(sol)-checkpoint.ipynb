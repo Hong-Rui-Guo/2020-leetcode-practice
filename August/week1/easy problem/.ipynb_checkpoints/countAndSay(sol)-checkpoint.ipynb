{
 "cells": [
  {
   "cell_type": "code",
   "execution_count": null,
   "metadata": {},
   "outputs": [],
   "source": [
    "class Solution(object):\n",
    "    def countAndSay(self, n):\n",
    "        \"\"\"\n",
    "        :type n: int\n",
    "        :rtype: str\n",
    "        \"\"\"\n",
    "        '''\n",
    "        根据题目描述的过程写代码，完全遵照规则写就行了。所以要用到三个循环，最外层是生成第几个序列；\n",
    "        中间层用于遍历一个序列；最内层找出连续相同的几个数字\n",
    "        '''\n",
    "        res = '1'\n",
    "        for i in range(n-1):\n",
    "            new_res = ''\n",
    "            j = 0\n",
    "            while j < len(res):\n",
    "                count = 1\n",
    "                while j < len(res)-1 and res[j] == res[j+1]:\n",
    "                    j = j + 1\n",
    "                    count = count + 1\n",
    "                j = j + 1\n",
    "                new_res = new_res + str(count) + res[j-1]\n",
    "            res = new_res\n",
    "        return res"
   ]
  }
 ],
 "metadata": {
  "kernelspec": {
   "display_name": "Python 3",
   "language": "python",
   "name": "python3"
  },
  "language_info": {
   "codemirror_mode": {
    "name": "ipython",
    "version": 3
   },
   "file_extension": ".py",
   "mimetype": "text/x-python",
   "name": "python",
   "nbconvert_exporter": "python",
   "pygments_lexer": "ipython3",
   "version": "3.7.5"
  }
 },
 "nbformat": 4,
 "nbformat_minor": 4
}
